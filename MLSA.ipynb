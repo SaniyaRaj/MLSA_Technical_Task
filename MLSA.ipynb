{
 "cells": [
  {
   "cell_type": "code",
   "execution_count": 2,
   "id": "fe75ad82",
   "metadata": {},
   "outputs": [],
   "source": [
    "import pandas as pd\n",
    "import numpy as np\n",
    "import matplotlib as mb\n",
    "import seaborn as sns"
   ]
  },
  {
   "cell_type": "code",
   "execution_count": 3,
   "id": "c4d0938d",
   "metadata": {},
   "outputs": [],
   "source": [
    "df = pd.read_csv(\"Employee_HR.csv\")"
   ]
  },
  {
   "cell_type": "code",
   "execution_count": 4,
   "id": "2a460772",
   "metadata": {},
   "outputs": [
    {
     "data": {
      "text/html": [
       "<div>\n",
       "<style scoped>\n",
       "    .dataframe tbody tr th:only-of-type {\n",
       "        vertical-align: middle;\n",
       "    }\n",
       "\n",
       "    .dataframe tbody tr th {\n",
       "        vertical-align: top;\n",
       "    }\n",
       "\n",
       "    .dataframe thead th {\n",
       "        text-align: right;\n",
       "    }\n",
       "</style>\n",
       "<table border=\"1\" class=\"dataframe\">\n",
       "  <thead>\n",
       "    <tr style=\"text-align: right;\">\n",
       "      <th></th>\n",
       "      <th>EmpId</th>\n",
       "      <th>Satisfaction</th>\n",
       "      <th>Evaluation</th>\n",
       "      <th>number_of_projects</th>\n",
       "      <th>average_montly_hours</th>\n",
       "      <th>time_spent_company</th>\n",
       "      <th>work_accident</th>\n",
       "      <th>Promotion</th>\n",
       "      <th>Department</th>\n",
       "      <th>Salary_INR</th>\n",
       "      <th>Churn</th>\n",
       "    </tr>\n",
       "  </thead>\n",
       "  <tbody>\n",
       "    <tr>\n",
       "      <th>0</th>\n",
       "      <td>780152</td>\n",
       "      <td>3.8</td>\n",
       "      <td>5.3</td>\n",
       "      <td>2</td>\n",
       "      <td>157</td>\n",
       "      <td>3</td>\n",
       "      <td>0</td>\n",
       "      <td>0</td>\n",
       "      <td>sales</td>\n",
       "      <td>11053</td>\n",
       "      <td>1</td>\n",
       "    </tr>\n",
       "    <tr>\n",
       "      <th>1</th>\n",
       "      <td>780153</td>\n",
       "      <td>8.0</td>\n",
       "      <td>8.6</td>\n",
       "      <td>5</td>\n",
       "      <td>262</td>\n",
       "      <td>6</td>\n",
       "      <td>0</td>\n",
       "      <td>0</td>\n",
       "      <td>sales</td>\n",
       "      <td>54063</td>\n",
       "      <td>1</td>\n",
       "    </tr>\n",
       "    <tr>\n",
       "      <th>2</th>\n",
       "      <td>780154</td>\n",
       "      <td>1.1</td>\n",
       "      <td>8.8</td>\n",
       "      <td>7</td>\n",
       "      <td>272</td>\n",
       "      <td>4</td>\n",
       "      <td>0</td>\n",
       "      <td>0</td>\n",
       "      <td>sales</td>\n",
       "      <td>61300</td>\n",
       "      <td>1</td>\n",
       "    </tr>\n",
       "    <tr>\n",
       "      <th>3</th>\n",
       "      <td>780155</td>\n",
       "      <td>7.2</td>\n",
       "      <td>8.7</td>\n",
       "      <td>5</td>\n",
       "      <td>223</td>\n",
       "      <td>5</td>\n",
       "      <td>0</td>\n",
       "      <td>0</td>\n",
       "      <td>sales</td>\n",
       "      <td>20647</td>\n",
       "      <td>1</td>\n",
       "    </tr>\n",
       "    <tr>\n",
       "      <th>4</th>\n",
       "      <td>780156</td>\n",
       "      <td>3.7</td>\n",
       "      <td>5.2</td>\n",
       "      <td>2</td>\n",
       "      <td>159</td>\n",
       "      <td>3</td>\n",
       "      <td>0</td>\n",
       "      <td>0</td>\n",
       "      <td>sales</td>\n",
       "      <td>17808</td>\n",
       "      <td>1</td>\n",
       "    </tr>\n",
       "  </tbody>\n",
       "</table>\n",
       "</div>"
      ],
      "text/plain": [
       "    EmpId  Satisfaction  Evaluation  number_of_projects  average_montly_hours  \\\n",
       "0  780152           3.8         5.3                   2                   157   \n",
       "1  780153           8.0         8.6                   5                   262   \n",
       "2  780154           1.1         8.8                   7                   272   \n",
       "3  780155           7.2         8.7                   5                   223   \n",
       "4  780156           3.7         5.2                   2                   159   \n",
       "\n",
       "   time_spent_company  work_accident  Promotion Department  Salary_INR  Churn  \n",
       "0                   3              0          0      sales       11053      1  \n",
       "1                   6              0          0      sales       54063      1  \n",
       "2                   4              0          0      sales       61300      1  \n",
       "3                   5              0          0      sales       20647      1  \n",
       "4                   3              0          0      sales       17808      1  "
      ]
     },
     "execution_count": 4,
     "metadata": {},
     "output_type": "execute_result"
    }
   ],
   "source": [
    "df.head()"
   ]
  },
  {
   "cell_type": "code",
   "execution_count": 5,
   "id": "9028328e",
   "metadata": {},
   "outputs": [
    {
     "data": {
      "text/plain": [
       "<bound method NDFrame.describe of         EmpId  Satisfaction  Evaluation  number_of_projects  \\\n",
       "0      780152           3.8         5.3                   2   \n",
       "1      780153           8.0         8.6                   5   \n",
       "2      780154           1.1         8.8                   7   \n",
       "3      780155           7.2         8.7                   5   \n",
       "4      780156           3.7         5.2                   2   \n",
       "...       ...           ...         ...                 ...   \n",
       "14994  795146           4.0         5.7                   2   \n",
       "14995  795147           3.7         4.8                   2   \n",
       "14996  795148           3.7         5.3                   2   \n",
       "14997  795149           1.1         9.6                   6   \n",
       "14998  795150           3.7         5.2                   2   \n",
       "\n",
       "       average_montly_hours  time_spent_company  work_accident  Promotion  \\\n",
       "0                       157                   3              0          0   \n",
       "1                       262                   6              0          0   \n",
       "2                       272                   4              0          0   \n",
       "3                       223                   5              0          0   \n",
       "4                       159                   3              0          0   \n",
       "...                     ...                 ...            ...        ...   \n",
       "14994                   151                   3              0          0   \n",
       "14995                   160                   3              0          0   \n",
       "14996                   143                   3              0          0   \n",
       "14997                   280                   4              0          0   \n",
       "14998                   158                   3              0          0   \n",
       "\n",
       "      Department  Salary_INR  Churn  \n",
       "0          sales       11053      1  \n",
       "1          sales       54063      1  \n",
       "2          sales       61300      1  \n",
       "3          sales       20647      1  \n",
       "4          sales       17808      1  \n",
       "...          ...         ...    ...  \n",
       "14994    support       37640      1  \n",
       "14995    support       33643      1  \n",
       "14996    support       34050      1  \n",
       "14997    support       38375      1  \n",
       "14998    support       34466      1  \n",
       "\n",
       "[14999 rows x 11 columns]>"
      ]
     },
     "execution_count": 5,
     "metadata": {},
     "output_type": "execute_result"
    }
   ],
   "source": [
    "df.describe"
   ]
  },
  {
   "cell_type": "code",
   "execution_count": 8,
   "id": "b944e80d",
   "metadata": {},
   "outputs": [],
   "source": [
    "hr_salaries = df[df[\"Department\"]==\"hr\"][\"Salary_INR\"]\n",
    "marketing_salaries = df[df[\"Department\"]==\"marketing\"][\"Salary_INR\"]"
   ]
  },
  {
   "cell_type": "code",
   "execution_count": 9,
   "id": "09087809",
   "metadata": {},
   "outputs": [],
   "source": [
    "hr_variance = hr_salaries.var()\n",
    "marketing_variance = marketing_salaries.var()"
   ]
  },
  {
   "cell_type": "code",
   "execution_count": 10,
   "id": "3a182321",
   "metadata": {},
   "outputs": [],
   "source": [
    "hr_std_dev = hr_salaries.std()\n",
    "marketing_std_dev = marketing_salaries.std()"
   ]
  },
  {
   "cell_type": "code",
   "execution_count": 11,
   "id": "b8712f42",
   "metadata": {},
   "outputs": [],
   "source": [
    "hr_iqr = np.percentile(hr_salaries, 75) - np.percentile(hr_salaries, 25)\n",
    "marketing_iqr = np.percentile(marketing_salaries, 75) - np.percentile(marketing_salaries, 25)"
   ]
  },
  {
   "cell_type": "code",
   "execution_count": 12,
   "id": "fd8caa7e",
   "metadata": {},
   "outputs": [
    {
     "name": "stdout",
     "output_type": "stream",
     "text": [
      "HR Department:\n",
      "Variance: 3793401488.9530396\n",
      "Standard Deviation: 61590.595783390825\n"
     ]
    }
   ],
   "source": [
    "print(\"HR Department:\")\n",
    "print(\"Variance:\", hr_variance)\n",
    "print(\"Standard Deviation:\", hr_std_dev)"
   ]
  },
  {
   "cell_type": "code",
   "execution_count": 13,
   "id": "62f632ab",
   "metadata": {},
   "outputs": [
    {
     "name": "stdout",
     "output_type": "stream",
     "text": [
      "Marketing Department:\n",
      "Variance: 4819965913.773614\n",
      "Standard Deviation: 69425.97434515135\n"
     ]
    }
   ],
   "source": [
    "print(\"Marketing Department:\")\n",
    "print(\"Variance:\", marketing_variance)\n",
    "print(\"Standard Deviation:\", marketing_std_dev)"
   ]
  },
  {
   "cell_type": "code",
   "execution_count": 14,
   "id": "28f14a47",
   "metadata": {},
   "outputs": [],
   "source": [
    "hr_data = df[df['Department'] == 'hr']\n",
    "marketing_data = df[df['Department'] == 'marketing']"
   ]
  },
  {
   "cell_type": "code",
   "execution_count": 15,
   "id": "e39fe03f",
   "metadata": {},
   "outputs": [],
   "source": [
    "hr_salary_variance = np.var(hr_data['Salary_INR'])\n",
    "hr_salary_std_dev = np.std(hr_data['Salary_INR'])\n",
    "hr_salary_iqr = hr_data['Salary_INR'].quantile(0.75) - hr_data['Salary_INR'].quantile(0.25)"
   ]
  },
  {
   "cell_type": "code",
   "execution_count": 16,
   "id": "1c9850a7",
   "metadata": {},
   "outputs": [],
   "source": [
    "marketing_salary_variance = np.var(marketing_data['Salary_INR'])\n",
    "marketing_salary_std_dev = np.std(marketing_data['Salary_INR'])\n",
    "marketing_salary_iqr = marketing_data['Salary_INR'].quantile(0.75) - marketing_data['Salary_INR'].quantile(0.25)"
   ]
  },
  {
   "cell_type": "code",
   "execution_count": 17,
   "id": "a220ff33",
   "metadata": {},
   "outputs": [
    {
     "name": "stdout",
     "output_type": "stream",
     "text": [
      "HR Department:\n",
      "Variance: 3788268334.028881\n",
      "Standard Deviation: 61548.91009619001\n",
      "IQR: 49796.5\n",
      "\n",
      "Marketing Department:\n",
      "Variance: 4814348237.883434\n",
      "Standard Deviation: 69385.50452279953\n",
      "IQR: 54579.25\n"
     ]
    }
   ],
   "source": [
    "print(\"HR Department:\")\n",
    "print(f\"Variance: {hr_salary_variance}\")\n",
    "print(f\"Standard Deviation: {hr_salary_std_dev}\")\n",
    "print(f\"IQR: {hr_salary_iqr}\")\n",
    "print(\"\\nMarketing Department:\")\n",
    "print(f\"Variance: {marketing_salary_variance}\")\n",
    "print(f\"Standard Deviation: {marketing_salary_std_dev}\")\n",
    "print(f\"IQR: {marketing_salary_iqr}\")"
   ]
  },
  {
   "cell_type": "code",
   "execution_count": 18,
   "id": "ffba809e",
   "metadata": {},
   "outputs": [],
   "source": [
    "it_data = df[df['Department'] == 'IT']"
   ]
  },
  {
   "cell_type": "code",
   "execution_count": 19,
   "id": "564fd0a6",
   "metadata": {},
   "outputs": [
    {
     "data": {
      "text/html": [
       "<div>\n",
       "<style scoped>\n",
       "    .dataframe tbody tr th:only-of-type {\n",
       "        vertical-align: middle;\n",
       "    }\n",
       "\n",
       "    .dataframe tbody tr th {\n",
       "        vertical-align: top;\n",
       "    }\n",
       "\n",
       "    .dataframe thead th {\n",
       "        text-align: right;\n",
       "    }\n",
       "</style>\n",
       "<table border=\"1\" class=\"dataframe\">\n",
       "  <thead>\n",
       "    <tr style=\"text-align: right;\">\n",
       "      <th></th>\n",
       "      <th>EmpId</th>\n",
       "      <th>Satisfaction</th>\n",
       "      <th>Evaluation</th>\n",
       "      <th>number_of_projects</th>\n",
       "      <th>average_montly_hours</th>\n",
       "      <th>time_spent_company</th>\n",
       "      <th>work_accident</th>\n",
       "      <th>Promotion</th>\n",
       "      <th>Department</th>\n",
       "      <th>Salary_INR</th>\n",
       "      <th>Churn</th>\n",
       "    </tr>\n",
       "  </thead>\n",
       "  <tbody>\n",
       "    <tr>\n",
       "      <th>61</th>\n",
       "      <td>780213</td>\n",
       "      <td>1.1</td>\n",
       "      <td>9.3</td>\n",
       "      <td>7</td>\n",
       "      <td>308</td>\n",
       "      <td>4</td>\n",
       "      <td>0</td>\n",
       "      <td>0</td>\n",
       "      <td>IT</td>\n",
       "      <td>87983</td>\n",
       "      <td>1</td>\n",
       "    </tr>\n",
       "    <tr>\n",
       "      <th>62</th>\n",
       "      <td>780214</td>\n",
       "      <td>1.0</td>\n",
       "      <td>9.5</td>\n",
       "      <td>6</td>\n",
       "      <td>244</td>\n",
       "      <td>5</td>\n",
       "      <td>0</td>\n",
       "      <td>0</td>\n",
       "      <td>IT</td>\n",
       "      <td>93436</td>\n",
       "      <td>1</td>\n",
       "    </tr>\n",
       "    <tr>\n",
       "      <th>63</th>\n",
       "      <td>780215</td>\n",
       "      <td>3.6</td>\n",
       "      <td>5.6</td>\n",
       "      <td>2</td>\n",
       "      <td>132</td>\n",
       "      <td>3</td>\n",
       "      <td>0</td>\n",
       "      <td>0</td>\n",
       "      <td>IT</td>\n",
       "      <td>63971</td>\n",
       "      <td>1</td>\n",
       "    </tr>\n",
       "    <tr>\n",
       "      <th>64</th>\n",
       "      <td>780216</td>\n",
       "      <td>1.1</td>\n",
       "      <td>9.4</td>\n",
       "      <td>6</td>\n",
       "      <td>286</td>\n",
       "      <td>4</td>\n",
       "      <td>0</td>\n",
       "      <td>0</td>\n",
       "      <td>IT</td>\n",
       "      <td>97797</td>\n",
       "      <td>1</td>\n",
       "    </tr>\n",
       "    <tr>\n",
       "      <th>65</th>\n",
       "      <td>780217</td>\n",
       "      <td>8.1</td>\n",
       "      <td>7.0</td>\n",
       "      <td>6</td>\n",
       "      <td>161</td>\n",
       "      <td>4</td>\n",
       "      <td>0</td>\n",
       "      <td>0</td>\n",
       "      <td>IT</td>\n",
       "      <td>43594</td>\n",
       "      <td>1</td>\n",
       "    </tr>\n",
       "  </tbody>\n",
       "</table>\n",
       "</div>"
      ],
      "text/plain": [
       "     EmpId  Satisfaction  Evaluation  number_of_projects  \\\n",
       "61  780213           1.1         9.3                   7   \n",
       "62  780214           1.0         9.5                   6   \n",
       "63  780215           3.6         5.6                   2   \n",
       "64  780216           1.1         9.4                   6   \n",
       "65  780217           8.1         7.0                   6   \n",
       "\n",
       "    average_montly_hours  time_spent_company  work_accident  Promotion  \\\n",
       "61                   308                   4              0          0   \n",
       "62                   244                   5              0          0   \n",
       "63                   132                   3              0          0   \n",
       "64                   286                   4              0          0   \n",
       "65                   161                   4              0          0   \n",
       "\n",
       "   Department  Salary_INR  Churn  \n",
       "61         IT       87983      1  \n",
       "62         IT       93436      1  \n",
       "63         IT       63971      1  \n",
       "64         IT       97797      1  \n",
       "65         IT       43594      1  "
      ]
     },
     "execution_count": 19,
     "metadata": {},
     "output_type": "execute_result"
    }
   ],
   "source": [
    "it_data.head()"
   ]
  },
  {
   "cell_type": "code",
   "execution_count": 20,
   "id": "688852b7",
   "metadata": {},
   "outputs": [],
   "source": [
    "it_exp_range = it_data['time_spent_company'].max() - it_data['time_spent_company'].min()"
   ]
  },
  {
   "cell_type": "code",
   "execution_count": 21,
   "id": "1ee438a0",
   "metadata": {},
   "outputs": [
    {
     "name": "stdout",
     "output_type": "stream",
     "text": [
      "The range of experience in the IT department is 8 years.\n"
     ]
    }
   ],
   "source": [
    "print(f\"The range of experience in the IT department is {it_exp_range} years.\")"
   ]
  },
  {
   "cell_type": "code",
   "execution_count": 22,
   "id": "00e3083d",
   "metadata": {},
   "outputs": [],
   "source": [
    "from matplotlib import pyplot as plt"
   ]
  },
  {
   "cell_type": "code",
   "execution_count": 23,
   "id": "29fe0463",
   "metadata": {},
   "outputs": [],
   "source": [
    "sns.set(style=\"whitegrid\")"
   ]
  },
  {
   "cell_type": "code",
   "execution_count": 24,
   "id": "d62e6b06",
   "metadata": {},
   "outputs": [
    {
     "data": {
      "text/plain": [
       "<Axes: xlabel='Department', ylabel='time_spent_company'>"
      ]
     },
     "execution_count": 24,
     "metadata": {},
     "output_type": "execute_result"
    },
    {
     "data": {
      "image/png": "[encoded data removed]",
      "text/plain": [
       "<Figure size 640x480 with 1 Axes>"
      ]
     },
     "metadata": {},
     "output_type": "display_data"
    }
   ],
   "source": [
    "sns.boxplot(x='Department', y='time_spent_company', data=df)"
   ]
  },
  {
   "cell_type": "code",
   "execution_count": 25,
   "id": "8d85e3ad",
   "metadata": {},
   "outputs": [],
   "source": [
    "plt.rcParams[\"figure.figsize\"] = [7.50, 3.50]\n",
    "plt.rcParams[\"figure.autolayout\"] = True"
   ]
  },
  {
   "cell_type": "code",
   "execution_count": 26,
   "id": "4d894be0",
   "metadata": {},
   "outputs": [
    {
     "data": {
      "text/plain": [
       "<Axes: xlabel='Department', ylabel='time_spent_company'>"
      ]
     },
     "execution_count": 26,
     "metadata": {},
     "output_type": "execute_result"
    },
    {
     "data": {
      "image/png": "[encoded data removed]",
      "text/plain": [
       "<Figure size 750x350 with 1 Axes>"
      ]
     },
     "metadata": {},
     "output_type": "display_data"
    }
   ],
   "source": [
    "sns.boxplot(x='Department', y='time_spent_company', data=df)"
   ]
  },
  {
   "cell_type": "code",
   "execution_count": 27,
   "id": "1419ced3",
   "metadata": {},
   "outputs": [
    {
     "name": "stderr",
     "output_type": "stream",
     "text": [
      "C:\\Users\\saniy\\AppData\\Local\\Temp\\ipykernel_2404\\1455984825.py:1: FutureWarning: The default value of numeric_only in DataFrame.std is deprecated. In a future version, it will default to False. In addition, specifying 'numeric_only=None' is deprecated. Select only valid columns or specify the value of numeric_only to silence this warning.\n",
      "  std_deviations = df.std()\n"
     ]
    }
   ],
   "source": [
    "std_deviations = df.std()"
   ]
  },
  {
   "cell_type": "code",
   "execution_count": 28,
   "id": "93e49827",
   "metadata": {},
   "outputs": [],
   "source": [
    "highest_std_dev_feature = std_deviations.idxmax()\n",
    "highest_std_dev_value = std_deviations.max()"
   ]
  },
  {
   "cell_type": "code",
   "execution_count": 29,
   "id": "480d75fc",
   "metadata": {},
   "outputs": [
    {
     "name": "stdout",
     "output_type": "stream",
     "text": [
      "The feature with the highest standard deviation is 'Salary_INR' with a value of 66486.12\n"
     ]
    }
   ],
   "source": [
    "print(f\"The feature with the highest standard deviation is '{highest_std_dev_feature}' with a value of {highest_std_dev_value:.2f}\")"
   ]
  }
 ],
 "metadata": {
  "kernelspec": {
   "display_name": "Python 3 (ipykernel)",
   "language": "python",
   "name": "python3"
  },
  "language_info": {
   "codemirror_mode": {
    "name": "ipython",
    "version": 3
   },
   "file_extension": ".py",
   "mimetype": "text/x-python",
   "name": "python",
   "nbconvert_exporter": "python",
   "pygments_lexer": "ipython3",
   "version": "3.11.4"
  }
 },
 "nbformat": 4,
 "nbformat_minor": 5
}
